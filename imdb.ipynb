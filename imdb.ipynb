{
 "cells": [
  {
   "cell_type": "markdown",
   "metadata": {},
   "source": [
    "# Imdb sentiment classification.\n",
    "\n",
    "Dataset of 25,000 movies reviews from IMDB, labeled by sentiment (positive/negative). Reviews have been preprocessed, and each review is encoded as a sequence of word indexes (integers). For convenience, words are indexed by overall frequency in the dataset, so that for instance the integer \"3\" encodes the 3rd most frequent word in the data. This allows for quick filtering operations such as: \"only consider the top 10,000 most common words, but eliminate the top 20 most common words\"."
   ]
  },
  {
   "cell_type": "code",
   "execution_count": 80,
   "metadata": {},
   "outputs": [],
   "source": [
    "import numpy as np\n",
    "import matplotlib.pyplot as plt\n",
    "from sklearn.metrics import classification_report\n",
    "\n",
    "import keras\n",
    "from keras import Sequential, regularizers\n",
    "from keras.layers import Dense, Dropout, Activation\n",
    "from keras.datasets import imdb"
   ]
  },
  {
   "cell_type": "markdown",
   "metadata": {},
   "source": [
    "## 1. Load the dataset."
   ]
  },
  {
   "cell_type": "code",
   "execution_count": 4,
   "metadata": {},
   "outputs": [],
   "source": [
    "# Load the data.\n",
    "(x_train, y_train), (x_test, y_test) = imdb.load_data(num_words=10000)"
   ]
  },
  {
   "cell_type": "code",
   "execution_count": 18,
   "metadata": {},
   "outputs": [],
   "source": [
    "# Get the word to index dict.\n",
    "word_to_index = imdb.get_word_index()\n",
    "\n",
    "# Get the index to word dict.\n",
    "index_to_word = dict(\n",
    "[(value, key) for (key, value) in word_to_index.items()])"
   ]
  },
  {
   "cell_type": "code",
   "execution_count": 85,
   "metadata": {},
   "outputs": [
    {
     "name": "stdout",
     "output_type": "stream",
     "text": [
      "Length dictionnary = 88584\n"
     ]
    }
   ],
   "source": [
    "# Display\n",
    "print(\"Length dictionnary = {}\".format(len(word_to_index)))"
   ]
  },
  {
   "cell_type": "markdown",
   "metadata": {},
   "source": [
    "## 2. Handle the dataset.\n",
    "\n",
    "Here we gather the features of words $X \\in \\mathbb{R}^{m \\times n}$ where $m$ is the total number of samples and $n$ is the features length. For the current example $n$ is equal to $10000$.\n"
   ]
  },
  {
   "cell_type": "code",
   "execution_count": 36,
   "metadata": {},
   "outputs": [],
   "source": [
    "def vectorize_sequences(sequences, dimension=10000):\n",
    "    results = np.zeros((len(sequences), dimension))\n",
    "    for i, sequence in enumerate(sequences):\n",
    "        results[i, sequence] = 1.\n",
    "    return results"
   ]
  },
  {
   "cell_type": "code",
   "execution_count": 37,
   "metadata": {},
   "outputs": [
    {
     "name": "stdout",
     "output_type": "stream",
     "text": [
      "Size x_tr = (25000, 10000)\n",
      "Size x_te = (25000, 10000)\n"
     ]
    }
   ],
   "source": [
    "# Vectorise the training and test features.\n",
    "x_tr = vectorize_sequences(x_train)\n",
    "x_te = vectorize_sequences(x_test)\n",
    "\n",
    "# Display the size.\n",
    "print(\"Size x_tr = {}\".format(x_tr.shape))\n",
    "print(\"Size x_te = {}\".format(x_te.shape))"
   ]
  },
  {
   "cell_type": "code",
   "execution_count": 50,
   "metadata": {},
   "outputs": [
    {
     "name": "stdout",
     "output_type": "stream",
     "text": [
      "y_train  (25000, 1)\n",
      "y_test  (25000, 1)\n"
     ]
    }
   ],
   "source": [
    "# Handle the training and test labels.\n",
    "y_tr = y_train.reshape(-1, 1)\n",
    "y_te = y_test.reshape(-1, 1)\n",
    "\n",
    "# Display the shapes.\n",
    "print(\"y_train \", y_tr.shape)\n",
    "print(\"y_test \", y_te.shape)"
   ]
  },
  {
   "cell_type": "markdown",
   "metadata": {},
   "source": [
    "## 3. Build the model."
   ]
  },
  {
   "cell_type": "code",
   "execution_count": 82,
   "metadata": {},
   "outputs": [
    {
     "name": "stdout",
     "output_type": "stream",
     "text": [
      "Train on 25000 samples, validate on 25000 samples\n",
      "Epoch 1/20\n",
      "25000/25000 [==============================] - 3s 137us/step - loss: 0.9638 - acc: 0.6338 - val_loss: 0.7106 - val_acc: 0.8435\n",
      "Epoch 2/20\n",
      "25000/25000 [==============================] - 3s 106us/step - loss: 0.6955 - acc: 0.7705 - val_loss: 0.6151 - val_acc: 0.8632\n",
      "Epoch 3/20\n",
      "25000/25000 [==============================] - 3s 106us/step - loss: 0.6331 - acc: 0.8158 - val_loss: 0.5623 - val_acc: 0.8653\n",
      "Epoch 4/20\n",
      "25000/25000 [==============================] - 3s 106us/step - loss: 0.5932 - acc: 0.8366 - val_loss: 0.5295 - val_acc: 0.8729\n",
      "Epoch 5/20\n",
      "25000/25000 [==============================] - 3s 106us/step - loss: 0.5701 - acc: 0.8414 - val_loss: 0.5138 - val_acc: 0.8707\n",
      "Epoch 6/20\n",
      "25000/25000 [==============================] - 3s 106us/step - loss: 0.5531 - acc: 0.8501 - val_loss: 0.5004 - val_acc: 0.8776\n",
      "Epoch 7/20\n",
      "25000/25000 [==============================] - 3s 106us/step - loss: 0.5359 - acc: 0.8513 - val_loss: 0.4848 - val_acc: 0.8769\n",
      "Epoch 8/20\n",
      "25000/25000 [==============================] - 3s 107us/step - loss: 0.5247 - acc: 0.8580 - val_loss: 0.4793 - val_acc: 0.8775\n",
      "Epoch 9/20\n",
      "25000/25000 [==============================] - 3s 106us/step - loss: 0.5261 - acc: 0.8530 - val_loss: 0.4757 - val_acc: 0.8762\n",
      "Epoch 10/20\n",
      "25000/25000 [==============================] - 3s 106us/step - loss: 0.5141 - acc: 0.8565 - val_loss: 0.4654 - val_acc: 0.8748\n",
      "Epoch 11/20\n",
      "25000/25000 [==============================] - 3s 106us/step - loss: 0.5091 - acc: 0.8572 - val_loss: 0.4705 - val_acc: 0.8775\n",
      "Epoch 12/20\n",
      "25000/25000 [==============================] - 3s 107us/step - loss: 0.5029 - acc: 0.8603 - val_loss: 0.4615 - val_acc: 0.8773\n",
      "Epoch 13/20\n",
      "25000/25000 [==============================] - 3s 106us/step - loss: 0.4973 - acc: 0.8627 - val_loss: 0.4596 - val_acc: 0.8801\n",
      "Epoch 14/20\n",
      "25000/25000 [==============================] - 3s 106us/step - loss: 0.4960 - acc: 0.8613 - val_loss: 0.4570 - val_acc: 0.8805\n",
      "Epoch 15/20\n",
      "25000/25000 [==============================] - 3s 108us/step - loss: 0.4933 - acc: 0.8642 - val_loss: 0.4549 - val_acc: 0.8803\n",
      "Epoch 16/20\n",
      "25000/25000 [==============================] - 3s 111us/step - loss: 0.4931 - acc: 0.8672 - val_loss: 0.4560 - val_acc: 0.8796\n",
      "Epoch 17/20\n",
      "25000/25000 [==============================] - 3s 106us/step - loss: 0.4870 - acc: 0.8699 - val_loss: 0.4518 - val_acc: 0.8815\n",
      "Epoch 18/20\n",
      "25000/25000 [==============================] - 3s 107us/step - loss: 0.4885 - acc: 0.8673 - val_loss: 0.4720 - val_acc: 0.8698\n",
      "Epoch 19/20\n",
      "25000/25000 [==============================] - 3s 106us/step - loss: 0.4844 - acc: 0.8694 - val_loss: 0.4578 - val_acc: 0.8739\n",
      "Epoch 20/20\n",
      "25000/25000 [==============================] - 3s 106us/step - loss: 0.4908 - acc: 0.8680 - val_loss: 0.4488 - val_acc: 0.8798\n"
     ]
    }
   ],
   "source": [
    "# Build the model.\n",
    "model = Sequential()\n",
    "\n",
    "model.add(Dense(16, kernel_regularizer=regularizers.l2(0.03), input_shape=(10000,)))\n",
    "model.add(Activation(\"relu\"))\n",
    "model.add(Dropout(0.5))\n",
    "\n",
    "model.add(Dense(16, kernel_regularizer=regularizers.l2(0.01)))\n",
    "model.add(Activation(\"relu\"))\n",
    "model.add(Dropout(0.5))\n",
    "\n",
    "model.add(Dense(1))\n",
    "model.add(Activation(\"sigmoid\"))\n",
    "\n",
    "# Set the optimizer.\n",
    "optimizer = keras.optimizers.Adam(lr=0.001, decay=1e-6)\n",
    "\n",
    "# Compile the model.\n",
    "model.compile(loss=\"binary_crossentropy\", optimizer=optimizer, metrics=[\"accuracy\"])\n",
    "\n",
    "# Parameter fitting.\n",
    "fit_params = {\n",
    "    \"batch_size\": 512,\n",
    "    \"epochs\": 20,\n",
    "    \"verbose\": 1,\n",
    "    \"shuffle\": True,\n",
    "    \"validation_data\": (x_te, y_te)\n",
    "}\n",
    "\n",
    "# Fit the model.\n",
    "history = model.fit(x_tr, y_tr, **fit_params)"
   ]
  },
  {
   "cell_type": "code",
   "execution_count": 83,
   "metadata": {},
   "outputs": [
    {
     "data": {
      "image/png": "[encoded data removed]",
      "text/plain": [
       "<Figure size 1080x360 with 2 Axes>"
      ]
     },
     "metadata": {},
     "output_type": "display_data"
    }
   ],
   "source": [
    "# Visualise the training resuls.\n",
    "plt.figure(figsize=(15,5))\n",
    "plt.subplot(121)\n",
    "plt.plot(history.history[\"loss\"], color=\"b\", label=\"tr\")\n",
    "plt.plot(history.history[\"val_loss\"], color=\"r\", label=\"te\")\n",
    "plt.ylabel(\"loss\")\n",
    "plt.xlabel(\"epochs\")\n",
    "plt.grid()\n",
    "plt.legend()\n",
    "plt.subplot(122)\n",
    "plt.plot(history.history[\"acc\"], color=\"b\", label=\"tr\")\n",
    "plt.plot(history.history[\"val_acc\"], color=\"r\", label=\"te\")\n",
    "plt.ylabel(\"acc\")\n",
    "plt.xlabel(\"epochs\")\n",
    "plt.grid()\n",
    "plt.legend()\n",
    "plt.show()"
   ]
  },
  {
   "cell_type": "markdown",
   "metadata": {},
   "source": [
    "## 4. Evaluation"
   ]
  },
  {
   "cell_type": "code",
   "execution_count": 84,
   "metadata": {},
   "outputs": [
    {
     "name": "stdout",
     "output_type": "stream",
     "text": [
      "             precision    recall  f1-score   support\n",
      "\n",
      "          0       0.90      0.86      0.88     12500\n",
      "          1       0.86      0.90      0.88     12500\n",
      "\n",
      "avg / total       0.88      0.88      0.88     25000\n",
      "\n"
     ]
    }
   ],
   "source": [
    "# Get the predictions for the test dataset.\n",
    "y_pred = model.predict(x_te)\n",
    "\n",
    "# Update the predictions.\n",
    "y_pred = 1.0 * (y_pred > 0.5 )\n",
    "\n",
    "# Display the classification report.\n",
    "print(classification_report(y_te, y_pred))"
   ]
  }
 ],
 "metadata": {
  "kernelspec": {
   "display_name": "Python 3",
   "language": "python",
   "name": "python3"
  },
  "language_info": {
   "codemirror_mode": {
    "name": "ipython",
    "version": 3
   },
   "file_extension": ".py",
   "mimetype": "text/x-python",
   "name": "python",
   "nbconvert_exporter": "python",
   "pygments_lexer": "ipython3",
   "version": "3.6.6"
  }
 },
 "nbformat": 4,
 "nbformat_minor": 2
}
