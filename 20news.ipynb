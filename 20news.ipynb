{
 "cells": [
  {
   "cell_type": "markdown",
   "metadata": {},
   "source": [
    "# 20 News dataset\n",
    "\n",
    "This data set is a collection of 20,000 messages, collected from 20 different netnews newsgroups. One thousand messages from each of the twenty newsgroups were chosen at random and partitioned by newsgroup name. The dataset can be found there: http://www.cs.cmu.edu/afs/cs.cmu.edu/project/theo-20/www/data/news20.html"
   ]
  },
  {
   "cell_type": "markdown",
   "metadata": {},
   "source": [
    "## 0. Problem solving approach\n",
    "\n",
    "Here's how we will solve this classification problem:\n",
    "\n",
    "1. Convert all text samples in the dataset into sequences of word indices. A \"word index\" would simply be an integer ID for the word. We will only consider the top 20,000 most commonly occuring words in the dataset, and we will truncate the sequences to a maximum length of 1000 words.\n",
    "\n",
    "2. Prepare an \"embedding matrix\" which will contain at index i the embedding vector for the word of index i in our word index.\n",
    "\n",
    "3. Load this embedding matrix into a Keras Embedding layer, set to be frozen (its weights, the embedding vectors, will not be updated during training).\n",
    "\n",
    "4. Build on top of it a 1D convolutional neural network, ending in a softmax output over our 20 categories."
   ]
  },
  {
   "cell_type": "code",
   "execution_count": 60,
   "metadata": {},
   "outputs": [],
   "source": [
    "MAX_NUM_WORDS = 20000\n",
    "MAX_SEQUENCE_LENGTH = 1000\n",
    "EMBEDDING_DIM = 100\n",
    "VALIDATION_SPLIT = 0.2\n",
    "TEXT_DATA_DIR = \"dataset/20_newsgroup\"\n",
    "GLOVE_DIR = \"dataset/glove\""
   ]
  },
  {
   "cell_type": "code",
   "execution_count": 126,
   "metadata": {},
   "outputs": [],
   "source": [
    "# Basic packages.\n",
    "import os\n",
    "import sys\n",
    "import numpy as np\n",
    "import matplotlib.pyplot as plt\n",
    "from sklearn.metrics import classification_report"
   ]
  },
  {
   "cell_type": "markdown",
   "metadata": {},
   "source": [
    "## 1. Text samples conversion."
   ]
  },
  {
   "cell_type": "code",
   "execution_count": 122,
   "metadata": {},
   "outputs": [
    {
     "name": "stdout",
     "output_type": "stream",
     "text": [
      "Dataset information\n",
      "Found 19997 texts and 19997 labels\n"
     ]
    }
   ],
   "source": [
    "# Set the list of text sampels.\n",
    "texts = []  \n",
    "\n",
    "# Dictionary mapping label name to numeric id.\n",
    "labels_index = {}\n",
    "\n",
    "# List of label ids.\n",
    "labels = []  \n",
    "\n",
    "\n",
    "for name in sorted(os.listdir(TEXT_DATA_DIR)):\n",
    "    \n",
    "    path = os.path.join(TEXT_DATA_DIR, name)\n",
    "    \n",
    "    if os.path.isdir(path):\n",
    "        \n",
    "        label_id = len(labels_index)\n",
    "        labels_index[name] = label_id\n",
    "        \n",
    "        for fname in sorted(os.listdir(path)):\n",
    "            \n",
    "            if fname.isdigit():\n",
    "                fpath = os.path.join(path, fname)\n",
    "                if sys.version_info < (3,):\n",
    "                    f = open(fpath)\n",
    "                else:\n",
    "                    f = open(fpath, encoding='latin-1')\n",
    "                t = f.read()\n",
    "                i = t.find('\\n\\n')  # skip header\n",
    "                if 0 < i:\n",
    "                    t = t[i:]\n",
    "                texts.append(t)\n",
    "                f.close()\n",
    "                labels.append(label_id)\n",
    "\n",
    "# Display information.\n",
    "print(\"Dataset information\")\n",
    "print(\"Found {} texts and {} labels\".format(len(texts), len(labels)))"
   ]
  },
  {
   "cell_type": "markdown",
   "metadata": {},
   "source": [
    "Then we can format our text samples and labels into tensors that can be fed into a neural network. To do this, we will rely on Keras utilities."
   ]
  },
  {
   "cell_type": "code",
   "execution_count": 123,
   "metadata": {},
   "outputs": [],
   "source": [
    "from keras.preprocessing.text import Tokenizer\n",
    "from keras.preprocessing.sequence import pad_sequences\n",
    "from keras.utils import to_categorical"
   ]
  },
  {
   "cell_type": "code",
   "execution_count": 124,
   "metadata": {},
   "outputs": [
    {
     "name": "stderr",
     "output_type": "stream",
     "text": [
      "/Users/mdhoffschmidt/miniconda3/lib/python3.6/site-packages/keras/preprocessing/text.py:157: UserWarning: The `nb_words` argument in `Tokenizer` has been renamed `num_words`.\n",
      "  warnings.warn('The `nb_words` argument in `Tokenizer` '\n"
     ]
    },
    {
     "name": "stdout",
     "output_type": "stream",
     "text": [
      "Found 174074 unique tokens.\n",
      "Shape of data tensor: (19997, 1000)\n",
      "Shape of label tensor: (19997, 20)\n"
     ]
    }
   ],
   "source": [
    "tokenizer = Tokenizer(nb_words=MAX_NUM_WORDS)\n",
    "tokenizer.fit_on_texts(texts)\n",
    "sequences = tokenizer.texts_to_sequences(texts)\n",
    "\n",
    "word_index = tokenizer.word_index\n",
    "print('Found %s unique tokens.' % len(word_index))\n",
    "\n",
    "data = pad_sequences(sequences, maxlen=MAX_SEQUENCE_LENGTH)\n",
    "\n",
    "labels = to_categorical(np.asarray(labels))\n",
    "print('Shape of data tensor:', data.shape)\n",
    "print('Shape of label tensor:', labels.shape)\n",
    "\n",
    "# split the data into a training set and a validation set\n",
    "indices = np.arange(data.shape[0])\n",
    "np.random.shuffle(indices)\n",
    "data = data[indices]\n",
    "labels = labels[indices]\n",
    "nb_validation_samples = int(VALIDATION_SPLIT * data.shape[0])\n",
    "\n",
    "x_train = data[:-nb_validation_samples]\n",
    "y_train = labels[:-nb_validation_samples]\n",
    "x_val = data[-nb_validation_samples:]\n",
    "y_val = labels[-nb_validation_samples:]"
   ]
  },
  {
   "cell_type": "markdown",
   "metadata": {},
   "source": [
    "## 2. Preparing the embedding layer."
   ]
  },
  {
   "cell_type": "code",
   "execution_count": 63,
   "metadata": {},
   "outputs": [],
   "source": [
    "from keras.layers import Embedding"
   ]
  },
  {
   "cell_type": "code",
   "execution_count": 61,
   "metadata": {},
   "outputs": [
    {
     "name": "stdout",
     "output_type": "stream",
     "text": [
      "Found 400000 word vectors.\n"
     ]
    }
   ],
   "source": [
    "embeddings_index = {}\n",
    "f = open(os.path.join(GLOVE_DIR, 'glove.6B.100d.txt'))\n",
    "for line in f:\n",
    "    values = line.split()\n",
    "    word = values[0]\n",
    "    coefs = np.asarray(values[1:], dtype='float32')\n",
    "    embeddings_index[word] = coefs\n",
    "f.close()\n",
    "\n",
    "print('Found %s word vectors.' % len(embeddings_index))"
   ]
  },
  {
   "cell_type": "code",
   "execution_count": 64,
   "metadata": {},
   "outputs": [],
   "source": [
    "embedding_matrix = np.zeros((len(word_index) + 1, EMBEDDING_DIM))\n",
    "for word, i in word_index.items():\n",
    "    embedding_vector = embeddings_index.get(word)\n",
    "    if embedding_vector is not None:\n",
    "        # words not found in embedding index will be all-zeros.\n",
    "        embedding_matrix[i] = embedding_vector"
   ]
  },
  {
   "cell_type": "code",
   "execution_count": 65,
   "metadata": {},
   "outputs": [],
   "source": [
    "embedding_layer = Embedding(len(word_index) + 1,\n",
    "                            EMBEDDING_DIM,\n",
    "                            weights=[embedding_matrix],\n",
    "                            input_length=MAX_SEQUENCE_LENGTH,\n",
    "                            trainable=False)"
   ]
  },
  {
   "cell_type": "markdown",
   "metadata": {},
   "source": [
    "## 3. Training the model"
   ]
  },
  {
   "cell_type": "code",
   "execution_count": 134,
   "metadata": {},
   "outputs": [],
   "source": [
    "from keras import Input\n",
    "from keras import Model\n",
    "from keras import regularizers\n",
    "from keras.layers import Dense, Activation, Flatten\n",
    "from keras.layers import Dropout\n",
    "from keras.layers import Conv1D, MaxPooling1D"
   ]
  },
  {
   "cell_type": "code",
   "execution_count": 136,
   "metadata": {},
   "outputs": [
    {
     "name": "stdout",
     "output_type": "stream",
     "text": [
      "Train on 15998 samples, validate on 3999 samples\n",
      "Epoch 1/15\n",
      "15998/15998 [==============================] - 113s 7ms/step - loss: 2.7517 - acc: 0.1973 - val_loss: 2.1299 - val_acc: 0.3478\n",
      "Epoch 2/15\n",
      "15998/15998 [==============================] - 112s 7ms/step - loss: 1.9354 - acc: 0.4134 - val_loss: 1.7389 - val_acc: 0.4736\n",
      "Epoch 3/15\n",
      "15998/15998 [==============================] - 112s 7ms/step - loss: 1.5770 - acc: 0.5321 - val_loss: 1.4807 - val_acc: 0.5626\n",
      "Epoch 4/15\n",
      "15998/15998 [==============================] - 112s 7ms/step - loss: 1.3623 - acc: 0.6100 - val_loss: 1.3408 - val_acc: 0.6164\n",
      "Epoch 5/15\n",
      "15998/15998 [==============================] - 120s 7ms/step - loss: 1.2188 - acc: 0.6642 - val_loss: 1.2568 - val_acc: 0.6534\n",
      "Epoch 6/15\n",
      "15998/15998 [==============================] - 115s 7ms/step - loss: 1.1320 - acc: 0.6928 - val_loss: 1.2318 - val_acc: 0.6637\n",
      "Epoch 7/15\n",
      "15998/15998 [==============================] - 125s 8ms/step - loss: 1.0638 - acc: 0.7164 - val_loss: 1.1884 - val_acc: 0.6672\n",
      "Epoch 8/15\n",
      "15998/15998 [==============================] - 134s 8ms/step - loss: 0.9726 - acc: 0.7540 - val_loss: 1.1428 - val_acc: 0.6919\n",
      "Epoch 9/15\n",
      "15998/15998 [==============================] - 128s 8ms/step - loss: 0.9116 - acc: 0.7752 - val_loss: 1.1542 - val_acc: 0.6954\n",
      "Epoch 10/15\n",
      "15998/15998 [==============================] - 123s 8ms/step - loss: 0.8592 - acc: 0.7977 - val_loss: 1.1713 - val_acc: 0.6902\n",
      "Epoch 11/15\n",
      "15998/15998 [==============================] - 126s 8ms/step - loss: 0.7861 - acc: 0.8205 - val_loss: 1.1123 - val_acc: 0.7187\n",
      "Epoch 12/15\n",
      "15998/15998 [==============================] - 125s 8ms/step - loss: 0.7552 - acc: 0.8321 - val_loss: 1.0936 - val_acc: 0.7179\n",
      "Epoch 13/15\n",
      "15998/15998 [==============================] - 115s 7ms/step - loss: 0.6956 - acc: 0.8542 - val_loss: 1.3054 - val_acc: 0.6699\n",
      "Epoch 14/15\n",
      "15998/15998 [==============================] - 114s 7ms/step - loss: 0.6732 - acc: 0.8620 - val_loss: 1.0932 - val_acc: 0.7362\n",
      "Epoch 15/15\n",
      "15998/15998 [==============================] - 114s 7ms/step - loss: 0.6126 - acc: 0.8858 - val_loss: 1.0972 - val_acc: 0.7412\n"
     ]
    }
   ],
   "source": [
    "# Set the input.\n",
    "sequence_input = Input(shape=(MAX_SEQUENCE_LENGTH,), dtype=\"int32\")\n",
    "\n",
    "# Set the embedding layer.\n",
    "embedded_sequences = embedding_layer(sequence_input)\n",
    "\n",
    "# Conv layer 1.\n",
    "x = Conv1D(128, 5, kernel_regularizer=regularizers.l2(0.001))(embedded_sequences)\n",
    "x = Activation(\"relu\")(x)\n",
    "x = MaxPooling1D(5)(x)\n",
    "X = Dropout(0.5)(x)\n",
    "\n",
    "# Conv Layer 2.\n",
    "x = Conv1D(128, 5, kernel_regularizer=regularizers.l2(0.001))(x)\n",
    "x = Activation(\"relu\")(x)\n",
    "x = MaxPooling1D(5)(x)\n",
    "X = Dropout(0.5)(x)\n",
    "\n",
    "# Conv Layer 3.\n",
    "x = Conv1D(128, 5, kernel_regularizer=regularizers.l2(0.001))(x)\n",
    "x = Activation(\"relu\")(x)\n",
    "x = MaxPooling1D(35)(x)\n",
    "X = Dropout(0.5)(x)\n",
    "\n",
    "# Output layer.\n",
    "x = Flatten()(x)\n",
    "x = Dense(128)(x)\n",
    "x = Activation(\"relu\")(x)\n",
    "X = Dropout(0.5)(x)\n",
    "\n",
    "# Softmax layer.\n",
    "preds = Dense(len(labels_index), activation=\"softmax\")(x)\n",
    "\n",
    "# Build the model.\n",
    "model = Model(sequence_input, preds)\n",
    "\n",
    "# Compile the model.\n",
    "model.compile(loss=\"categorical_crossentropy\", optimizer=\"Adam\", metrics=[\"acc\"])\n",
    "\n",
    "# Set the fitting parameters.\n",
    "fit_params = {\n",
    "    \"epochs\": 15,\n",
    "    \"batch_size\": 256,\n",
    "    \"validation_data\": (x_val, y_val),\n",
    "    \"shuffle\": True\n",
    "}\n",
    "\n",
    "# Fit the model.\n",
    "history = model.fit(x_train, y_train, **fit_params)"
   ]
  },
  {
   "cell_type": "code",
   "execution_count": 137,
   "metadata": {},
   "outputs": [
    {
     "data": {
      "image/png": "[encoded data removed]",
      "text/plain": [
       "<Figure size 1080x360 with 2 Axes>"
      ]
     },
     "metadata": {},
     "output_type": "display_data"
    }
   ],
   "source": [
    "import matplotlib.pyplot as plt\n",
    "\n",
    "# Visualise the training resuls.\n",
    "plt.figure(figsize=(15,5))\n",
    "plt.subplot(121)\n",
    "plt.plot(history.history[\"loss\"], color=\"b\", label=\"tr\")\n",
    "plt.plot(history.history[\"val_loss\"], color=\"r\", label=\"te\")\n",
    "plt.ylabel(\"loss\")\n",
    "plt.xlabel(\"epochs\")\n",
    "plt.grid()\n",
    "plt.legend()\n",
    "plt.subplot(122)\n",
    "plt.plot(history.history[\"acc\"], color=\"b\", label=\"tr\")\n",
    "plt.plot(history.history[\"val_acc\"], color=\"r\", label=\"te\")\n",
    "plt.ylabel(\"acc\")\n",
    "plt.xlabel(\"epochs\")\n",
    "plt.grid()\n",
    "plt.legend()\n",
    "plt.show()"
   ]
  },
  {
   "cell_type": "markdown",
   "metadata": {},
   "source": [
    "## 4. Evaluation."
   ]
  },
  {
   "cell_type": "code",
   "execution_count": 138,
   "metadata": {},
   "outputs": [],
   "source": [
    "# Obtain the predictions for the evaluation set.\n",
    "y_pred = model.predict(x_val)"
   ]
  },
  {
   "cell_type": "code",
   "execution_count": 129,
   "metadata": {},
   "outputs": [],
   "source": [
    "# Handle the predictions.\n",
    "y_pred = np.eye(y_val.shape[1])[np.argmax(y_pred, axis=1).reshape(-1)]"
   ]
  },
  {
   "cell_type": "code",
   "execution_count": 130,
   "metadata": {},
   "outputs": [
    {
     "name": "stdout",
     "output_type": "stream",
     "text": [
      "                          precision    recall  f1-score   support\n",
      "\n",
      "             alt.atheism     0.8133    0.6683    0.7337       202\n",
      "           comp.graphics     0.8835    0.5260    0.6594       173\n",
      " comp.os.ms-windows.misc     0.8580    0.6651    0.7493       209\n",
      "comp.sys.ibm.pc.hardware     0.7500    0.1981    0.3134       212\n",
      "   comp.sys.mac.hardware     0.4485    0.8927    0.5971       205\n",
      "          comp.windows.x     0.6736    0.8717    0.7599       187\n",
      "            misc.forsale     0.7934    0.8667    0.8284       195\n",
      "               rec.autos     0.9087    0.9356    0.9220       202\n",
      "         rec.motorcycles     0.9409    0.9227    0.9317       207\n",
      "      rec.sport.baseball     0.9340    0.9474    0.9406       209\n",
      "        rec.sport.hockey     0.9909    0.9732    0.9820       224\n",
      "               sci.crypt     0.8283    0.8817    0.8542       186\n",
      "         sci.electronics     0.6825    0.8152    0.7430       211\n",
      "                 sci.med     0.9421    0.9227    0.9323       194\n",
      "               sci.space     0.9886    0.7828    0.8737       221\n",
      "  soc.religion.christian     0.8299    0.9804    0.8989       204\n",
      "      talk.politics.guns     0.8599    0.7219    0.7849       187\n",
      "   talk.politics.mideast     0.8586    0.9341    0.8947       182\n",
      "      talk.politics.misc     0.7287    0.6816    0.7044       201\n",
      "      talk.religion.misc     0.5507    0.6064    0.5772       188\n",
      "\n",
      "             avg / total     0.8150    0.7907    0.7851      3999\n",
      "\n"
     ]
    }
   ],
   "source": [
    "# Display the classification report.\n",
    "print(classification_report(y_val, y_pred, target_names=list(labels_index.keys()), digits=4))"
   ]
  }
 ],
 "metadata": {
  "kernelspec": {
   "display_name": "Python 3",
   "language": "python",
   "name": "python3"
  },
  "language_info": {
   "codemirror_mode": {
    "name": "ipython",
    "version": 3
   },
   "file_extension": ".py",
   "mimetype": "text/x-python",
   "name": "python",
   "nbconvert_exporter": "python",
   "pygments_lexer": "ipython3",
   "version": "3.6.6"
  }
 },
 "nbformat": 4,
 "nbformat_minor": 2
}
