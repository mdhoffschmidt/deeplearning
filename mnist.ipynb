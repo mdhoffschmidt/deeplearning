{
 "cells": [
  {
   "cell_type": "markdown",
   "metadata": {},
   "source": [
    "# Mnist dataset.\n",
    "\n",
    "The MNIST database of handwritten digits, available from this page, has a training set of 60,000 examples, and a test set of 10,000 examples. It is a subset of a larger set available from NIST. The digits have been size-normalized and centered in a fixed-size image. (Website)[http://yann.lecun.com/exdb/mnist/]"
   ]
  },
  {
   "cell_type": "code",
   "execution_count": 2,
   "metadata": {},
   "outputs": [
    {
     "name": "stderr",
     "output_type": "stream",
     "text": [
      "Using TensorFlow backend.\n"
     ]
    }
   ],
   "source": [
    "import time\n",
    "import numpy as np\n",
    "import matplotlib.pyplot as plt\n",
    "from sklearn.metrics import classification_report\n",
    "import keras\n",
    "from keras.datasets import mnist\n",
    "from keras.utils import to_categorical\n",
    "from keras import Sequential\n",
    "from keras.layers import MaxPooling2D\n",
    "from keras.layers import Conv2D, Dense, Flatten, Dropout, Activation"
   ]
  },
  {
   "cell_type": "markdown",
   "metadata": {},
   "source": [
    "## 1. Load the dataset"
   ]
  },
  {
   "cell_type": "code",
   "execution_count": 3,
   "metadata": {},
   "outputs": [],
   "source": [
    "# Load the dataset.\n",
    "(x_train, y_train), (x_test, y_test) = mnist.load_data()\n",
    "\n",
    "# Set the number of classes.\n",
    "num_classes = np.max(y_train) + 1"
   ]
  },
  {
   "cell_type": "code",
   "execution_count": 4,
   "metadata": {},
   "outputs": [
    {
     "data": {
      "image/png": "[encoded data removed]",
      "text/plain": [
       "<Figure size 720x216 with 10 Axes>"
      ]
     },
     "metadata": {},
     "output_type": "display_data"
    }
   ],
   "source": [
    "# Display an image for each class.\n",
    "fig = plt.figure(figsize=(10,3))\n",
    "for i in range(num_classes):\n",
    "    ax = fig.add_subplot(2, 5, 1 + i, xticks=[], yticks=[])\n",
    "    idx = np.where(y_train[:] == i)[0]\n",
    "    features_idx = x_train[idx,::]\n",
    "    img_num = np.random.randint(features_idx.shape[0])\n",
    "    im = features_idx[img_num]\n",
    "    plt.imshow(im, cmap=\"gray\")\n",
    "    plt.title(\"Class = {}\".format(i))\n",
    "plt.show()"
   ]
  },
  {
   "cell_type": "markdown",
   "metadata": {},
   "source": [
    "## 2. Handle data."
   ]
  },
  {
   "cell_type": "code",
   "execution_count": 5,
   "metadata": {},
   "outputs": [
    {
     "name": "stdout",
     "output_type": "stream",
     "text": [
      "x_tr size = (60000, 1, 28, 28)\n",
      "x_te size = (10000, 1, 28, 28)\n"
     ]
    }
   ],
   "source": [
    "# Reshape as channel first.\n",
    "size_tr = x_train.shape\n",
    "size_te = x_test.shape\n",
    "x_tr = x_train.reshape(size_tr[0], 1, size_tr[1], size_tr[2])\n",
    "x_te = x_test.reshape(size_te[0], 1, size_te[1], size_te[2])\n",
    "\n",
    "# Process the images.\n",
    "x_tr = x_tr / 255\n",
    "x_te = x_te / 255\n",
    "\n",
    "# Display the images size.\n",
    "print(\"x_tr size = {}\".format(x_tr.shape))\n",
    "print(\"x_te size = {}\".format(x_te.shape))"
   ]
  },
  {
   "cell_type": "code",
   "execution_count": 42,
   "metadata": {},
   "outputs": [
    {
     "name": "stdout",
     "output_type": "stream",
     "text": [
      "y_tr size = (60000, 10)\n",
      "y_te size = (10000, 10)\n"
     ]
    }
   ],
   "source": [
    "# Process the classes.\n",
    "y_tr = to_categorical(y_train, num_classes)\n",
    "y_te = to_categorical(y_test, num_classes)\n",
    "\n",
    "# Display the classes size.\n",
    "print(\"y_tr size = {}\".format(y_tr.shape))\n",
    "print(\"y_te size = {}\".format(y_te.shape))"
   ]
  },
  {
   "cell_type": "markdown",
   "metadata": {},
   "source": [
    "## 3. Model."
   ]
  },
  {
   "cell_type": "code",
   "execution_count": 74,
   "metadata": {},
   "outputs": [
    {
     "name": "stdout",
     "output_type": "stream",
     "text": [
      "Train on 60000 samples, validate on 10000 samples\n",
      "Epoch 1/12\n",
      "60000/60000 [==============================] - 110s 2ms/step - loss: 0.2911 - acc: 0.9078 - val_loss: 0.0810 - val_acc: 0.9739\n",
      "Epoch 2/12\n",
      "60000/60000 [==============================] - 106s 2ms/step - loss: 0.0864 - acc: 0.9740 - val_loss: 0.0455 - val_acc: 0.9862\n",
      "Epoch 3/12\n",
      "60000/60000 [==============================] - 109s 2ms/step - loss: 0.0577 - acc: 0.9828 - val_loss: 0.0325 - val_acc: 0.9902\n",
      "Epoch 4/12\n",
      "60000/60000 [==============================] - 99s 2ms/step - loss: 0.0445 - acc: 0.9866 - val_loss: 0.0308 - val_acc: 0.9897\n",
      "Epoch 5/12\n",
      "60000/60000 [==============================] - 99s 2ms/step - loss: 0.0345 - acc: 0.9896 - val_loss: 0.0340 - val_acc: 0.9885\n",
      "Epoch 6/12\n",
      "60000/60000 [==============================] - 99s 2ms/step - loss: 0.0298 - acc: 0.9907 - val_loss: 0.0316 - val_acc: 0.9893\n",
      "Epoch 7/12\n",
      "60000/60000 [==============================] - 98s 2ms/step - loss: 0.0248 - acc: 0.9920 - val_loss: 0.0279 - val_acc: 0.9916\n",
      "Epoch 8/12\n",
      "60000/60000 [==============================] - 105s 2ms/step - loss: 0.0198 - acc: 0.9939 - val_loss: 0.0244 - val_acc: 0.9925\n",
      "Epoch 9/12\n",
      "60000/60000 [==============================] - 98s 2ms/step - loss: 0.0177 - acc: 0.9943 - val_loss: 0.0237 - val_acc: 0.9916\n",
      "Epoch 10/12\n",
      "60000/60000 [==============================] - 98s 2ms/step - loss: 0.0152 - acc: 0.9952 - val_loss: 0.0262 - val_acc: 0.9913\n",
      "Epoch 11/12\n",
      "60000/60000 [==============================] - 98s 2ms/step - loss: 0.0120 - acc: 0.9965 - val_loss: 0.0253 - val_acc: 0.9917\n",
      "Epoch 12/12\n",
      "60000/60000 [==============================] - 98s 2ms/step - loss: 0.0116 - acc: 0.9964 - val_loss: 0.0261 - val_acc: 0.9920\n"
     ]
    }
   ],
   "source": [
    "# Initialise the the model.\n",
    "model = Sequential()\n",
    "\n",
    "# First convolutional layer.\n",
    "model.add(Conv2D(32, kernel_size=(5, 5), strides=(1, 1),\n",
    "                 activation=\"relu\",\n",
    "                 data_format=\"channels_first\",\n",
    "                 input_shape=(1, 28, 28)))\n",
    "model.add(MaxPooling2D(pool_size=(2, 2), strides=(2, 2)))\n",
    "\n",
    "# Second convolutional layer.\n",
    "model.add(Conv2D(64, (5, 5), activation='relu'))\n",
    "model.add(MaxPooling2D(pool_size=(2, 2)))\n",
    "\n",
    "# Dense layer.\n",
    "model.add(Flatten())\n",
    "model.add(Dense(256, activation='relu'))\n",
    "model.add(Dropout(0.50))\n",
    "model.add(Dense(num_classes, activation='softmax'))\n",
    "\n",
    "# Compile the model.\n",
    "model.compile(loss=keras.losses.categorical_crossentropy,\n",
    "              optimizer=keras.optimizers.Adadelta(),\n",
    "              metrics=['accuracy'])\n",
    "\n",
    "# Parameter fitting.\n",
    "fit_params = {\n",
    "    \"batch_size\": 128,\n",
    "    \"epochs\": 12,\n",
    "    \"verbose\": 1,\n",
    "    \"shuffle\": True,\n",
    "    \"validation_data\": (x_te, y_te)\n",
    "}\n",
    "\n",
    "# Fit the model.\n",
    "history = model.fit(x_tr, y_tr, **fit_params)"
   ]
  },
  {
   "cell_type": "code",
   "execution_count": 75,
   "metadata": {},
   "outputs": [
    {
     "data": {
      "image/png": "[encoded data removed]",
      "text/plain": [
       "<Figure size 1080x360 with 2 Axes>"
      ]
     },
     "metadata": {},
     "output_type": "display_data"
    }
   ],
   "source": [
    "# Visualise the resuls.\n",
    "plt.figure(figsize=(15,5))\n",
    "plt.subplot(121)\n",
    "plt.plot(history.history[\"loss\"], color=\"b\", label=\"tr\")\n",
    "plt.plot(history.history[\"val_loss\"], color=\"r\", label=\"te\")\n",
    "plt.ylabel(\"loss\")\n",
    "plt.xlabel(\"epochs\")\n",
    "plt.grid()\n",
    "plt.subplot(122)\n",
    "plt.plot(history.history[\"acc\"], color=\"b\", label=\"tr\")\n",
    "plt.plot(history.history[\"val_acc\"], color=\"r\", label=\"te\")\n",
    "plt.ylabel(\"acc\")\n",
    "plt.xlabel(\"epochs\")\n",
    "plt.grid()\n",
    "plt.legend()\n",
    "plt.show()"
   ]
  },
  {
   "cell_type": "markdown",
   "metadata": {},
   "source": [
    "Now, we can save the trained model for later inference. We save the model to the 'models' directory under 'mnist' name. "
   ]
  },
  {
   "cell_type": "code",
   "execution_count": 76,
   "metadata": {},
   "outputs": [],
   "source": [
    "# Save the model.\n",
    "model.save(\"models/mnist.h5\")"
   ]
  },
  {
   "cell_type": "markdown",
   "metadata": {},
   "source": [
    "## 4. Evaluation.\n",
    "\n",
    "We can evaluate the model now, first we have to load it."
   ]
  },
  {
   "cell_type": "markdown",
   "metadata": {},
   "source": [
    "### a. Evaluate the metrics."
   ]
  },
  {
   "cell_type": "code",
   "execution_count": 77,
   "metadata": {},
   "outputs": [],
   "source": [
    "# Set the model filepath.\n",
    "filepath = \"models/mnist.h5\"\n",
    "\n",
    "# Load the model.\n",
    "model = keras.models.load_model(filepath)"
   ]
  },
  {
   "cell_type": "code",
   "execution_count": 88,
   "metadata": {},
   "outputs": [
    {
     "name": "stdout",
     "output_type": "stream",
     "text": [
      "10000/10000 [==============================] - 9s 926us/step\n"
     ]
    }
   ],
   "source": [
    "# Start the timer.\n",
    "time_start = time.time()\n",
    "\n",
    "# Evaluate the performance of the model.\n",
    "loss_te, acc_te = model.evaluate(x_te, y_te)\n",
    "\n",
    "# End the timer.\n",
    "time_final = time.time()\n",
    "\n",
    "# Compute elapsed time in ms.\n",
    "elapsed = 1000 * ( time_final - time_start )\n",
    "avg_ms_pr_img = elapsed / x_te.shape[0]"
   ]
  },
  {
   "cell_type": "code",
   "execution_count": 90,
   "metadata": {},
   "outputs": [
    {
     "name": "stdout",
     "output_type": "stream",
     "text": [
      "Test inference:\n",
      "loss = 0.026148675219031976\n",
      "accuracy = 0.992\n",
      "avg_ms_pr_img  = 0.9263458013534546 [ms\\img]\n",
      "elapsed time = 9263.458013534546 [ms]\n"
     ]
    }
   ],
   "source": [
    "# Display evaluation information.\n",
    "print(\"Test inference:\")\n",
    "print(\"loss = {}\".format(loss_te))\n",
    "print(\"accuracy = {}\".format(acc_te))\n",
    "print(\"avg_ms_pr_img  = {} [ms\\img]\".format(avg_ms_pr_img))\n",
    "print(\"elapsed time = {} [ms]\".format(elapsed))"
   ]
  },
  {
   "cell_type": "markdown",
   "metadata": {},
   "source": [
    "### b. Classification report."
   ]
  },
  {
   "cell_type": "code",
   "execution_count": 123,
   "metadata": {},
   "outputs": [
    {
     "name": "stdout",
     "output_type": "stream",
     "text": [
      "             precision    recall  f1-score   support\n",
      "\n",
      "          0     0.9949    0.9939    0.9944       980\n",
      "          1     0.9887    0.9991    0.9939      1135\n",
      "          2     0.9894    0.9961    0.9928      1032\n",
      "          3     0.9921    0.9931    0.9926      1010\n",
      "          4     0.9889    0.9939    0.9914       982\n",
      "          5     0.9910    0.9877    0.9893       892\n",
      "          6     0.9906    0.9916    0.9911       958\n",
      "          7     0.9941    0.9903    0.9922      1028\n",
      "          8     0.9938    0.9908    0.9923       974\n",
      "          9     0.9970    0.9822    0.9895      1009\n",
      "\n",
      "avg / total     0.9920    0.9920    0.9920     10000\n",
      "\n"
     ]
    }
   ],
   "source": [
    "# Model test inference.\n",
    "y_pred = model.predict(x_te)\n",
    "y_pred = np.eye(num_classes)[np.argmax(y_pred, axis=1).reshape(-1)]\n",
    "\n",
    "# Display the classification report.\n",
    "print(classification_report(y_te, y_pred, digits=4))"
   ]
  },
  {
   "cell_type": "code",
   "execution_count": null,
   "metadata": {},
   "outputs": [],
   "source": []
  }
 ],
 "metadata": {
  "kernelspec": {
   "display_name": "Python 3",
   "language": "python",
   "name": "python3"
  },
  "language_info": {
   "codemirror_mode": {
    "name": "ipython",
    "version": 3
   },
   "file_extension": ".py",
   "mimetype": "text/x-python",
   "name": "python",
   "nbconvert_exporter": "python",
   "pygments_lexer": "ipython3",
   "version": "3.6.6"
  }
 },
 "nbformat": 4,
 "nbformat_minor": 2
}
