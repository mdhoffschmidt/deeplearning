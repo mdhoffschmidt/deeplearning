{
 "cells": [
  {
   "cell_type": "markdown",
   "metadata": {},
   "source": [
    "# Mnist dataset."
   ]
  },
  {
   "cell_type": "code",
   "execution_count": 29,
   "metadata": {},
   "outputs": [],
   "source": [
    "import time\n",
    "import numpy as np\n",
    "import matplotlib.pyplot as plt\n",
    "\n",
    "# Keras.\n",
    "from keras.datasets import mnist\n",
    "from keras.utils import to_categorical"
   ]
  },
  {
   "cell_type": "markdown",
   "metadata": {},
   "source": [
    "## 1. Load the dataset"
   ]
  },
  {
   "cell_type": "code",
   "execution_count": 30,
   "metadata": {},
   "outputs": [],
   "source": [
    "# Load the dataset.\n",
    "(x_train, y_train), (x_test, y_test) = mnist.load_data()\n",
    "\n",
    "# Set the number of classes.\n",
    "num_classes = np.max(y_train) + 1"
   ]
  },
  {
   "cell_type": "code",
   "execution_count": 31,
   "metadata": {},
   "outputs": [
    {
     "data": {
      "image/png": "[encoded data removed]",
      "text/plain": [
       "<Figure size 720x216 with 10 Axes>"
      ]
     },
     "metadata": {},
     "output_type": "display_data"
    }
   ],
   "source": [
    "# Display an image for each class.\n",
    "fig = plt.figure(figsize=(10,3))\n",
    "for i in range(num_classes):\n",
    "    ax = fig.add_subplot(2, 5, 1 + i, xticks=[], yticks=[])\n",
    "    idx = np.where(y_train[:] == i)[0]\n",
    "    features_idx = x_train[idx,::]\n",
    "    img_num = np.random.randint(features_idx.shape[0])\n",
    "    im = features_idx[img_num]\n",
    "    plt.imshow(im, cmap=\"gray\")\n",
    "    plt.title(\"Class = {}\".format(i))\n",
    "plt.show()"
   ]
  },
  {
   "cell_type": "markdown",
   "metadata": {},
   "source": [
    "## 2. Handle data."
   ]
  },
  {
   "cell_type": "code",
   "execution_count": 41,
   "metadata": {},
   "outputs": [
    {
     "name": "stdout",
     "output_type": "stream",
     "text": [
      "y_tr size = (60000, 1, 28, 28)\n",
      "y_te size = (10000, 1, 28, 28)\n"
     ]
    }
   ],
   "source": [
    "# Reshape as channel first.\n",
    "size_tr = x_train.shape\n",
    "size_te = x_test.shape\n",
    "x_tr = x_train.reshape(size_tr[0], 1, size_tr[1], size_tr[2])\n",
    "x_te = x_test.reshape(size_te[0], 1, size_te[1], size_te[2])\n",
    "\n",
    "# Process the images.\n",
    "x_tr = x_tr / 255\n",
    "x_te = x_te / 255\n",
    "\n",
    "# Display the images size.\n",
    "print(\"y_tr size = {}\".format(x_tr.shape))\n",
    "print(\"y_te size = {}\".format(x_te.shape))"
   ]
  },
  {
   "cell_type": "code",
   "execution_count": 42,
   "metadata": {},
   "outputs": [
    {
     "name": "stdout",
     "output_type": "stream",
     "text": [
      "y_tr size = (60000, 10)\n",
      "y_te size = (10000, 10)\n"
     ]
    }
   ],
   "source": [
    "# Process the classes.\n",
    "y_tr = to_categorical(y_train, num_classes)\n",
    "y_te = to_categorical(y_test, num_classes)\n",
    "\n",
    "# Display the classes size.\n",
    "print(\"y_tr size = {}\".format(y_tr.shape))\n",
    "print(\"y_te size = {}\".format(y_te.shape))"
   ]
  },
  {
   "cell_type": "markdown",
   "metadata": {},
   "source": [
    "## 3. Model."
   ]
  },
  {
   "cell_type": "code",
   "execution_count": 52,
   "metadata": {},
   "outputs": [],
   "source": [
    "import keras\n",
    "from keras import Sequential\n",
    "from keras.layers import MaxPooling2D\n",
    "from keras.layers import Conv2D, Dense, Flatten"
   ]
  },
  {
   "cell_type": "code",
   "execution_count": null,
   "metadata": {},
   "outputs": [
    {
     "name": "stdout",
     "output_type": "stream",
     "text": [
      "Train on 60000 samples, validate on 10000 samples\n",
      "Epoch 1/10\n",
      "60000/60000 [==============================] - 106s 2ms/step - loss: 0.2511 - acc: 0.9211 - val_loss: 0.1289 - val_acc: 0.9600\n",
      "Epoch 2/10\n",
      "60000/60000 [==============================] - 106s 2ms/step - loss: 0.0705 - acc: 0.9775 - val_loss: 0.0663 - val_acc: 0.9773\n",
      "Epoch 3/10\n",
      "59904/60000 [============================>.] - ETA: 0s - loss: 0.0462 - acc: 0.9850"
     ]
    }
   ],
   "source": [
    "# Build the model.\n",
    "model = Sequential()\n",
    "model.add(Conv2D(32, kernel_size=(5, 5), strides=(1, 1),\n",
    "                 activation=\"relu\",\n",
    "                 data_format=\"channels_first\",\n",
    "                 input_shape=(1, 28, 28)))\n",
    "model.add(MaxPooling2D(pool_size=(2, 2), strides=(2, 2)))\n",
    "model.add(Conv2D(64, (5, 5), activation='relu'))\n",
    "model.add(MaxPooling2D(pool_size=(2, 2)))\n",
    "model.add(Flatten())\n",
    "model.add(Dense(256, activation='relu'))\n",
    "model.add(Dense(num_classes, activation='softmax'))\n",
    "\n",
    "# Compile the model.\n",
    "model.compile(loss=keras.losses.categorical_crossentropy,\n",
    "              optimizer=keras.optimizers.Adadelta(),\n",
    "              metrics=['accuracy'])\n",
    "\n",
    "# Parameter fitting.\n",
    "fit_params = {\n",
    "    \"batch_size\": 128,\n",
    "    \"epochs\": 10,\n",
    "    \"verbose\": 1,\n",
    "    \"shuffle\": True,\n",
    "    \"validation_data\": (x_te, y_te)\n",
    "}\n",
    "\n",
    "# Fit the model.\n",
    "history = model.fit(x_tr, y_tr, **fit_params)"
   ]
  },
  {
   "cell_type": "code",
   "execution_count": null,
   "metadata": {},
   "outputs": [],
   "source": [
    "# Visualise the resuls.\n",
    "plt.figure(figsize=(15,5))\n",
    "plt.subplot(121)\n",
    "plt.plot(history.history[\"loss\"], color=\"b\", label=\"tr\")\n",
    "plt.plot(history.history[\"val_loss\"], color=\"r\", label=\"te\")\n",
    "plt.ylabel(\"loss\")\n",
    "plt.xlabel(\"epochs\")\n",
    "plt.subplot(122)\n",
    "plt.plot(history.history[\"acc\"], color=\"b\", label=\"tr\")\n",
    "plt.plot(history.history[\"val_acc\"], color=\"r\", label=\"te\")\n",
    "plt.ylabel(\"acc\")\n",
    "plt.xlabel(\"epochs\")\n",
    "plt.legend()\n",
    "plt.show()"
   ]
  },
  {
   "cell_type": "markdown",
   "metadata": {},
   "source": [
    "## Evaluation."
   ]
  },
  {
   "cell_type": "code",
   "execution_count": null,
   "metadata": {},
   "outputs": [],
   "source": [
    "# Get the prediction of the model for the test set.\n",
    "y_pred = model.predict(x_te)"
   ]
  }
 ],
 "metadata": {
  "kernelspec": {
   "display_name": "Python 3",
   "language": "python",
   "name": "python3"
  },
  "language_info": {
   "codemirror_mode": {
    "name": "ipython",
    "version": 3
   },
   "file_extension": ".py",
   "mimetype": "text/x-python",
   "name": "python",
   "nbconvert_exporter": "python",
   "pygments_lexer": "ipython3",
   "version": "3.6.6"
  }
 },
 "nbformat": 4,
 "nbformat_minor": 2
}
